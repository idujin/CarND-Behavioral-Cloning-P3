{
 "cells": [
  {
   "cell_type": "code",
   "execution_count": 13,
   "metadata": {},
   "outputs": [
    {
     "name": "stderr",
     "output_type": "stream",
     "text": [
      "Using TensorFlow backend.\n"
     ]
    }
   ],
   "source": [
    "import csv\n",
    "import cv2\n",
    "import numpy as np\n",
    "from keras.models import Sequential\n",
    "from keras.layers import Flatten, Dense"
   ]
  },
  {
   "cell_type": "code",
   "execution_count": 26,
   "metadata": {},
   "outputs": [],
   "source": [
    "lines =[]\n",
    "with open('../data/driving_log.csv') as csvfile:\n",
    "    reader = csv.reader(csvfile)\n",
    "    for line in reader:\n",
    "        lines.append(line)\n",
    "        \n",
    "images =[]\n",
    "measurements = []\n",
    "for line in lines:\n",
    "    source_path = line[0]\n",
    "    filename = source_path.split('/')[-1]\n",
    "    current_path = '../data/IMG/' +filename\n",
    "    image = cv2.imread(current_path)\n",
    "    images.append(image)\n",
    "    measurement = float(line[3])\n",
    "    measurements.append(measurement)\n",
    "\n",
    "X_train = np.array(images)\n",
    "y_train = np.array(measurements)\n"
   ]
  },
  {
   "cell_type": "code",
   "execution_count": 27,
   "metadata": {},
   "outputs": [
    {
     "name": "stdout",
     "output_type": "stream",
     "text": [
      "Train on 2105 samples, validate on 527 samples\n",
      "Epoch 1/10\n",
      "2105/2105 [==============================] - 3s - loss: 29485808.3750 - val_loss: 393246.7468\n",
      "Epoch 2/10\n",
      "2105/2105 [==============================] - 2s - loss: 50851.9394 - val_loss: 21934.0279\n",
      "Epoch 3/10\n",
      "2105/2105 [==============================] - 2s - loss: 9274.0750 - val_loss: 16541.1563\n",
      "Epoch 4/10\n",
      "2105/2105 [==============================] - 2s - loss: 5946.1740 - val_loss: 10972.0599\n",
      "Epoch 5/10\n",
      "2105/2105 [==============================] - 2s - loss: 4185.3367 - val_loss: 4760.4404\n",
      "Epoch 6/10\n",
      "2105/2105 [==============================] - 2s - loss: 3539.8255 - val_loss: 4266.2666\n",
      "Epoch 7/10\n",
      "2105/2105 [==============================] - 2s - loss: 3325.1175 - val_loss: 4277.4900\n",
      "Epoch 8/10\n",
      "2105/2105 [==============================] - 2s - loss: 2914.7997 - val_loss: 4246.9807\n",
      "Epoch 9/10\n",
      "2105/2105 [==============================] - 2s - loss: 2229.2880 - val_loss: 6346.1993\n",
      "Epoch 10/10\n",
      "2105/2105 [==============================] - 2s - loss: 2103.8182 - val_loss: 5914.0484\n"
     ]
    }
   ],
   "source": [
    "model = Sequential()\n",
    "model.add(Flatten(input_shape=(160, 320, 3)))\n",
    "model.add(Dense(1))\n",
    "\n",
    "model.compile(loss='mse', optimizer ='adam')\n",
    "model.fit(X_train, y_train, validation_split =0.2, shuffle = True)\n",
    "model.save('model.h5')"
   ]
  },
  {
   "cell_type": "code",
   "execution_count": 25,
   "metadata": {},
   "outputs": [
    {
     "data": {
      "text/plain": [
       "array(0.0)"
      ]
     },
     "execution_count": 25,
     "metadata": {},
     "output_type": "execute_result"
    }
   ],
   "source": [
    "(y_train)"
   ]
  },
  {
   "cell_type": "code",
   "execution_count": null,
   "metadata": {},
   "outputs": [],
   "source": []
  },
  {
   "cell_type": "code",
   "execution_count": null,
   "metadata": {},
   "outputs": [],
   "source": []
  }
 ],
 "metadata": {
  "kernelspec": {
   "display_name": "Python 3",
   "language": "python",
   "name": "python3"
  },
  "language_info": {
   "codemirror_mode": {
    "name": "ipython",
    "version": 3
   },
   "file_extension": ".py",
   "mimetype": "text/x-python",
   "name": "python",
   "nbconvert_exporter": "python",
   "pygments_lexer": "ipython3",
   "version": "3.5.2"
  },
  "widgets": {
   "state": {},
   "version": "1.1.2"
  }
 },
 "nbformat": 4,
 "nbformat_minor": 2
}

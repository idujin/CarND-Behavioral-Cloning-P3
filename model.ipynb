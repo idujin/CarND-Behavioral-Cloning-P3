{
 "cells": [
  {
   "cell_type": "code",
   "execution_count": 64,
   "metadata": {
    "collapsed": true
   },
   "outputs": [],
   "source": [
    "import csv\n",
    "import cv2\n",
    "import numpy as np\n",
    "from keras.models import Sequential\n",
    "from keras.layers import Flatten, Dense, Lambda, Cropping2D\n",
    "from keras.layers import Convolution2D\n",
    "from sklearn.model_selection import train_test_split"
   ]
  },
  {
   "cell_type": "code",
   "execution_count": 65,
   "metadata": {
    "collapsed": true
   },
   "outputs": [],
   "source": [
    "lines =[]\n",
    "with open('data/driving_log.csv') as csvfile:\n",
    "    reader = csv.reader(csvfile)\n",
    "    for line in reader:\n",
    "        lines.append(line)\n",
    "        \n",
    "images =[]\n",
    "measurements = []\n",
    "for line in lines:\n",
    "    source_path = line[0]\n",
    "    filename = source_path.split('/')[-1]\n",
    "    current_path = 'data/IMG/' +filename\n",
    "    image = cv2.imread(current_path)\n",
    "    images.append(image)\n",
    "    measurement = float(line[3])\n",
    "    measurements.append(measurement)\n",
    "\n",
    "X_train = np.array(images)\n",
    "y_train = np.array(measurements)\n"
   ]
  },
  {
   "cell_type": "code",
   "execution_count": 76,
   "metadata": {
    "collapsed": true
   },
   "outputs": [],
   "source": [
    "def preprocess(img):\n",
    "    new_images =[]\n",
    "    numOfImage = len(img)\n",
    "    for i in range(0, numOfImage):\n",
    "        img1 = img[i]\n",
    "        new_img = cv2.cvtColor(img1, cv2.COLOR_BGR2RGB)\n",
    "        new_images.append(new_img)\n",
    "    \n",
    "    new_images = np.array(new_images)\n",
    "    return new_images"
   ]
  },
  {
   "cell_type": "code",
   "execution_count": 67,
   "metadata": {
    "collapsed": true
   },
   "outputs": [],
   "source": [
    "def addFlippedData(images, measurements):\n",
    "    flipped_images, flipped_measurements = [],[]\n",
    "  \n",
    "    for image, measurement in zip(images, measurements):\n",
    "        flipped_images.append(image)\n",
    "        flipped_measurements.append(measurement)\n",
    "        flipped_images.append(cv2.flip(image, 1))\n",
    "        flipped_measurements.append(measurement * -1.0)\n",
    "        \n",
    "    X_augmented = np.array(flipped_images)\n",
    "    y_augmented = np.array(flipped_measurements)\n",
    "    return X_augmented, y_augmented"
   ]
  },
  {
   "cell_type": "code",
   "execution_count": 77,
   "metadata": {
    "collapsed": true
   },
   "outputs": [],
   "source": [
    "\n",
    "X_train_proc = preprocess(X_train)"
   ]
  },
  {
   "cell_type": "code",
   "execution_count": 78,
   "metadata": {
    "collapsed": true
   },
   "outputs": [],
   "source": [
    "X_augmented, y_augmented = addFlippedData(X_train_proc, y_train)"
   ]
  },
  {
   "cell_type": "code",
   "execution_count": 70,
   "metadata": {
    "collapsed": true
   },
   "outputs": [],
   "source": [
    "import sklearn\n",
    "def splitData(features, labels, splitRatio =0.2):\n",
    "\n",
    "    X_train, X_validation, y_train, y_validation = train_test_split(features, labels, test_size = splitRatio)\n",
    "    trainSet =[X_train, y_train]\n",
    "    validationSet = [X_validation, y_validation]\n",
    "\n",
    "    return trainSet, validationSet\n",
    "    \n"
   ]
  },
  {
   "cell_type": "code",
   "execution_count": 83,
   "metadata": {
    "collapsed": true
   },
   "outputs": [],
   "source": [
    "model = Sequential()\n",
    "model.add(Cropping2D(cropping=((60,20), (0,0)), input_shape=(160,320,3)))\n",
    "model.add(Lambda(lambda x: (x/255.0)- 0.5))\n",
    "model.add(Convolution2D(24,5,5, subsample=(2,2), activation='relu'))\n",
    "model.add(Convolution2D(36,5,5, subsample=(2,2), activation='relu'))\n",
    "model.add(Convolution2D(48,5,5, subsample=(2,2), activation='relu'))\n",
    "model.add(Convolution2D(64,3,3, activation='relu'))\n",
    "model.add(Convolution2D(64,3,3, activation='relu'))\n",
    "model.add(Flatten())\n",
    "model.add(Dense(100))\n",
    "model.add(Dense(50))\n",
    "model.add(Dense(10))\n",
    "model.add(Dense(1))"
   ]
  },
  {
   "cell_type": "code",
   "execution_count": 72,
   "metadata": {
    "collapsed": true
   },
   "outputs": [],
   "source": [
    "def generator(samples, batch_size):\n",
    " # Create empty arrays to contain batch of features and labels#\n",
    "    numFeatures = len(samples[0])\n",
    "    rowLen = np.shape(trainSet[0])[1]\n",
    "    colLen = np.shape(trainSet[0])[2]\n",
    "    batch_features = np.zeros((batch_size, rowLen, colLen, 3))\n",
    "    batch_labels = np.zeros((batch_size,1))\n",
    "    while True:\n",
    "        for offset in range(0, numFeatures, batch_size):\n",
    "            endIndex = min(offset+ batch_size, numFeatures)\n",
    "            batch_features = (samples[0][offset:endIndex])\n",
    "            batch_labels = (samples[1][offset:endIndex])\n",
    "\n",
    "            yield [batch_features, batch_labels]"
   ]
  },
  {
   "cell_type": "code",
   "execution_count": 50,
   "metadata": {},
   "outputs": [
    {
     "data": {
      "text/plain": [
       "160"
      ]
     },
     "execution_count": 50,
     "metadata": {},
     "output_type": "execute_result"
    }
   ],
   "source": []
  },
  {
   "cell_type": "code",
   "execution_count": 80,
   "metadata": {
    "collapsed": true
   },
   "outputs": [],
   "source": [
    "trainSet, validationSet = splitData(X_augmented,y_augmented)\n"
   ]
  },
  {
   "cell_type": "code",
   "execution_count": 84,
   "metadata": {},
   "outputs": [
    {
     "name": "stdout",
     "output_type": "stream",
     "text": [
      "Epoch 1/5\n",
      "46622/46622 [==============================] - 35s - loss: 0.0016    \n",
      "Epoch 2/5\n",
      "46622/46622 [==============================] - 34s - loss: 9.4617e-04    \n",
      "Epoch 3/5\n",
      "46622/46622 [==============================] - 34s - loss: 7.8430e-04    \n",
      "Epoch 4/5\n",
      "46622/46622 [==============================] - 34s - loss: 6.7712e-04    \n",
      "Epoch 5/5\n",
      "46622/46622 [==============================] - 34s - loss: 5.9035e-04    \n"
     ]
    }
   ],
   "source": [
    "\n",
    "batch_size = 32\n",
    "numTrain = len(trainSet[0])\n",
    "numValidation = len(validationSet[0])\n",
    "train_generator = generator(trainSet, batch_size)\n",
    "validation_generator = generator(validationSet, batch_size)\n",
    "model.compile(loss='mse', optimizer ='adam')\n",
    "#model.fit(X_train_proc, y_train, validation_split =0.2, shuffle = True)\n",
    "model_history = model.fit_generator(train_generator, samples_per_epoch=numTrain, nb_epoch=5)\n",
    "model.save('model.h5')"
   ]
  },
  {
   "cell_type": "code",
   "execution_count": 82,
   "metadata": {},
   "outputs": [
    {
     "data": {
      "text/plain": [
       "[<matplotlib.lines.Line2D at 0x7fe1e3602400>]"
      ]
     },
     "execution_count": 82,
     "metadata": {},
     "output_type": "execute_result"
    },
    {
     "data": {
      "image/png": "[encoded data removed]",
      "text/plain": [
       "<matplotlib.figure.Figure at 0x7fe1eff41630>"
      ]
     },
     "metadata": {},
     "output_type": "display_data"
    }
   ],
   "source": [
    "import matplotlib.pyplot as plt\n",
    "%matplotlib inline\n",
    "plt.plot(model_history.history['loss'])\n"
   ]
  },
  {
   "cell_type": "code",
   "execution_count": null,
   "metadata": {
    "collapsed": true
   },
   "outputs": [],
   "source": []
  },
  {
   "cell_type": "code",
   "execution_count": null,
   "metadata": {
    "collapsed": true
   },
   "outputs": [],
   "source": []
  }
 ],
 "metadata": {
  "kernelspec": {
   "display_name": "Python 3",
   "language": "python",
   "name": "python3"
  },
  "language_info": {
   "codemirror_mode": {
    "name": "ipython",
    "version": 3
   },
   "file_extension": ".py",
   "mimetype": "text/x-python",
   "name": "python",
   "nbconvert_exporter": "python",
   "pygments_lexer": "ipython3",
   "version": "3.5.2"
  },
  "widgets": {
   "state": {},
   "version": "1.1.2"
  }
 },
 "nbformat": 4,
 "nbformat_minor": 2
}
